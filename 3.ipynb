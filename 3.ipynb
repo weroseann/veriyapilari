{
  "nbformat": 4,
  "nbformat_minor": 0,
  "metadata": {
    "colab": {
      "provenance": []
    },
    "kernelspec": {
      "name": "python3",
      "display_name": "Python 3"
    },
    "language_info": {
      "name": "python"
    }
  },
  "cells": [
    {
      "cell_type": "code",
      "execution_count": null,
      "metadata": {
        "colab": {
          "base_uri": "https://localhost:8080/"
        },
        "id": "THIjXfkfeyEa",
        "outputId": "5dbc9971-c87c-46dc-8e27-87b1782526b7"
      },
      "outputs": [
        {
          "output_type": "stream",
          "name": "stdout",
          "text": [
            "Merhaba,İGÜ-İSTKA / ders 3\n"
          ]
        }
      ],
      "source": [
        "print(\"Merhaba,İGÜ-İSTKA / ders 3\")#print ekrana çıktı veren bir koddur.\n",
        "\n"
      ]
    },
    {
      "cell_type": "code",
      "source": [
        "import sys #import python programlama dilinde yazılıma kütüphane eklemeye yarayan bir koddur.\n",
        "print(sys.version)"
      ],
      "metadata": {
        "colab": {
          "base_uri": "https://localhost:8080/"
        },
        "id": "bt3lvMZSfWTN",
        "outputId": "e7e04b06-17f8-42b1-9b4b-524c8341630e"
      },
      "execution_count": null,
      "outputs": [
        {
          "output_type": "stream",
          "name": "stdout",
          "text": [
            "3.10.12 (main, Jul 29 2024, 16:56:48) [GCC 11.4.0]\n"
          ]
        }
      ]
    },
    {
      "cell_type": "code",
      "source": [
        "from google.colab import drive #google colab - drive baglantısı\n",
        "drive.mount('/content/drive')"
      ],
      "metadata": {
        "colab": {
          "base_uri": "https://localhost:8080/"
        },
        "id": "BfB3U3GDfizp",
        "outputId": "a05d9430-63d3-4ef0-c7f5-57aebdcc0b9f"
      },
      "execution_count": null,
      "outputs": [
        {
          "output_type": "stream",
          "name": "stdout",
          "text": [
            "Mounted at /content/drive\n"
          ]
        }
      ]
    },
    {
      "cell_type": "code",
      "source": [
        "import os\n",
        "os.chdir('/content/drive/My Drive/VERIYAPILARI_')\n",
        "!pwd #bize kodun çıktı yolu olarak veren kod blogudur."
      ],
      "metadata": {
        "colab": {
          "base_uri": "https://localhost:8080/"
        },
        "id": "JV0FH4OzgEsb",
        "outputId": "58d5b3d0-8144-4906-85c1-0cb3182053cf"
      },
      "execution_count": null,
      "outputs": [
        {
          "output_type": "stream",
          "name": "stdout",
          "text": [
            "/content/drive/My Drive/VERIYAPILARI_\n"
          ]
        }
      ]
    },
    {
      "cell_type": "markdown",
      "source": [
        "KOŞUL YAPISI\n",
        "\n",
        "*if koşul\n",
        "=belirtilen şart dogru ise bir blogun çalıştırlması saglamaktadır.\n",
        "\n",
        "*if else koşul\n",
        "=birden fazla koşul kontorol etmek için elif (else if)kullanılır.\n",
        "\n",
        "ilk dogru koşul bulununa kadar kontrol eder.\n",
        "\n",
        "hiçbiri dogru degilse,elseblogu çalıştırır.\n",
        "\n",
        "iç içe koşul\n",
        "\n",
        "mantıksal operatorler ile koşul yapıları\n",
        "\n",
        "\n",
        "\n"
      ],
      "metadata": {
        "id": "MKsBqBOjjQLH"
      }
    },
    {
      "cell_type": "code",
      "source": [
        "# if koşul yapısı\n",
        "x = 10\n",
        "if x > 5:\n",
        "   print(\"x,sayısı 5'ten büyüktür.\")"
      ],
      "metadata": {
        "colab": {
          "base_uri": "https://localhost:8080/"
        },
        "id": "akKRVnCfkHo5",
        "outputId": "b5ee1df3-9741-417f-8dcf-2302b456393b"
      },
      "execution_count": null,
      "outputs": [
        {
          "output_type": "stream",
          "name": "stdout",
          "text": [
            "x,sayısı 5'ten büyüktür.\n"
          ]
        }
      ]
    },
    {
      "cell_type": "code",
      "source": [
        "# if else koşulu yapısı\n",
        "\n",
        "x = 3\n",
        "if x > 5:\n",
        "     print(\"x,sayısı 5'ten büyüktür.\")\n",
        "else:\n",
        "  print(\"x,5'ten küçük veya eşittir .\")"
      ],
      "metadata": {
        "colab": {
          "base_uri": "https://localhost:8080/"
        },
        "id": "AZHGQlRCkdyh",
        "outputId": "7becad4d-3fa9-4a25-d785-6e412e84c5a1"
      },
      "execution_count": null,
      "outputs": [
        {
          "output_type": "stream",
          "name": "stdout",
          "text": [
            "x,5'ten küçük veya eşittir .\n"
          ]
        }
      ]
    },
    {
      "cell_type": "code",
      "source": [
        "# if elif else koşul yapısı\n",
        "if x >8 :\n",
        "  print(\"x,10'dan büyüktür.\")\n",
        "elif x>5:\n",
        "  print(\"x,5'ten büyüktür\")\n",
        "else:\n",
        "  print(\"x,5'ten büyük veya eşittir.\")"
      ],
      "metadata": {
        "colab": {
          "base_uri": "https://localhost:8080/"
        },
        "id": "NSe_wfmJlB4N",
        "outputId": "a5d8d71b-c1c5-4a95-cad8-386a936bc328"
      },
      "execution_count": null,
      "outputs": [
        {
          "output_type": "stream",
          "name": "stdout",
          "text": [
            "x,5'ten büyük veya eşittir.\n"
          ]
        }
      ]
    },
    {
      "cell_type": "code",
      "source": [
        "# iç içe koşul yapısı\n",
        "x=12\n",
        "y=8\n",
        "if x>10:\n",
        "  if y>5:\n",
        "    print(\"x,10'dan büyük ve y,5'ten büyüktür.\")\n",
        "  else:\n",
        "    print(\"x,10'dan büyük ama y,5'ten küçük veya eşittir.\")\n",
        "else:\n",
        "  print(\"x,10'dan küçük veya eşittir.\")\n",
        "\n"
      ],
      "metadata": {
        "colab": {
          "base_uri": "https://localhost:8080/"
        },
        "id": "IvaQWxV7xPGz",
        "outputId": "8acbf096-6e3d-4ada-f9c9-576b8cf914be"
      },
      "execution_count": null,
      "outputs": [
        {
          "output_type": "stream",
          "name": "stdout",
          "text": [
            "x,10'dan büyük ve y,5'ten büyüktür.\n"
          ]
        }
      ]
    },
    {
      "cell_type": "code",
      "source": [
        "#matıksal operatör ile koşullar\n",
        "x=7\n",
        "y=3\n",
        "\n",
        "#'and'operatörü ile\n",
        "if x>5 and y>2:\n",
        "  print(\"x,5'ten büyüktür ve y,2'den büyüktür.\")\n",
        "\n",
        "#'or'operatörü ile\n",
        "if x>5 or y>2:\n",
        "  print(\"x,5'ten büyüktür veya y,2'den büyüktür.\")\n",
        "\n",
        "#'not' operatörü ile\n",
        "if not x>5:\n",
        "  print(\"x,10'dan büyük degildir.\")\n",
        "\n"
      ],
      "metadata": {
        "colab": {
          "base_uri": "https://localhost:8080/"
        },
        "id": "_K3OIDRSyCNr",
        "outputId": "4465bdd0-c48c-4bb0-b94c-ad943380ed87"
      },
      "execution_count": null,
      "outputs": [
        {
          "output_type": "stream",
          "name": "stdout",
          "text": [
            "x,5'ten büyüktür ve y,2'den büyüktür.\n",
            "x,5'ten büyüktür veya y,2'den büyüktür.\n"
          ]
        }
      ]
    },
    {
      "cell_type": "markdown",
      "source": [
        "KOŞUL  YAPSI ÖRNEK\n"
      ],
      "metadata": {
        "id": "Cp3BO_Vz034L"
      }
    },
    {
      "cell_type": "code",
      "source": [
        "#örnek 1: not sistemi\n",
        "\n",
        "notu= 85 #not farkını gösterilecek...\n",
        "\n",
        "if notu >=90:\n",
        "  print(\"Harf notu: A\")\n",
        "elif notu >=80:\n",
        "  print(\"harf notu: B\")\n",
        "elif notu >=70:\n",
        "  print(\"harf notu: C\")\n",
        "elif notu >=60:\n",
        "  print(\"harf notu: D\")\n",
        "else:\n",
        "  print(\"harf notu:F\")"
      ],
      "metadata": {
        "colab": {
          "base_uri": "https://localhost:8080/"
        },
        "id": "EWgQ3Euf02iz",
        "outputId": "9733ae7d-ef25-4221-a9a6-38ea535941a9"
      },
      "execution_count": null,
      "outputs": [
        {
          "output_type": "stream",
          "name": "stdout",
          "text": [
            "harf notu: B\n"
          ]
        }
      ]
    },
    {
      "cell_type": "code",
      "source": [
        "#örnek 2: yaş kontrolü\n",
        "\n",
        "yas =20\n",
        "\n",
        "if yas<=18:\n",
        "  print(\"reşit degilsiniz\")\n",
        "if yas<=21:\n",
        "  print(\"reşitsiniz ama içecek alamazsınız\")\n",
        "else:\n",
        "  print(\"içecek satın alabilirsiniz.\")\n"
      ],
      "metadata": {
        "colab": {
          "base_uri": "https://localhost:8080/"
        },
        "id": "Y_JDTfqb5oMI",
        "outputId": "aaeaf197-d7a9-43a4-d1d3-ae5fb0df8963"
      },
      "execution_count": null,
      "outputs": [
        {
          "output_type": "stream",
          "name": "stdout",
          "text": [
            "reşitsiniz ama içecek alamazsınız\n"
          ]
        }
      ]
    },
    {
      "cell_type": "code",
      "source": [
        "#örnek 3: Sayı Pozitif,Negatif veya Sıfır mı ?\n",
        "\n",
        "sayi=int(input(\"bir sayı gir \"))\n",
        "\n",
        "if sayi > 0:\n",
        "  print(\"sayı pozitiftir.\")\n",
        "if sayi < 0:\n",
        "  print(\"sayı negatiftir.\")\n",
        "else:\n",
        "  print(\"sayı sıfırdır.\")\n"
      ],
      "metadata": {
        "colab": {
          "base_uri": "https://localhost:8080/"
        },
        "id": "nkK3aMXf6cZA",
        "outputId": "a89fae28-65c1-41e9-edcb-d5a976800bd4"
      },
      "execution_count": null,
      "outputs": [
        {
          "output_type": "stream",
          "name": "stdout",
          "text": [
            "bir sayı gir -4\n",
            "sayı negatiftir.\n"
          ]
        }
      ]
    }
  ]
}