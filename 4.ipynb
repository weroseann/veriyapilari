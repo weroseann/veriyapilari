{
  "nbformat": 4,
  "nbformat_minor": 0,
  "metadata": {
    "colab": {
      "provenance": []
    },
    "kernelspec": {
      "name": "python3",
      "display_name": "Python 3"
    },
    "language_info": {
      "name": "python"
    }
  },
  "cells": [
    {
      "cell_type": "code",
      "execution_count": null,
      "metadata": {
        "colab": {
          "base_uri": "https://localhost:8080/"
        },
        "id": "XcIxrD9b7SAu",
        "outputId": "b4e2c8be-5991-4404-940d-35ff266cabd8"
      },
      "outputs": [
        {
          "output_type": "stream",
          "name": "stdout",
          "text": [
            "Merhaba,İGÜ -İSTKA / ders 4\n"
          ]
        }
      ],
      "source": [
        "print(\"Merhaba,İGÜ -İSTKA / ders 4\") #print ekrana çıktı veren koddur.\n"
      ]
    },
    {
      "cell_type": "code",
      "source": [
        "import sys #import python programlama dilinde yazılıma kütüphane yarayan bir koddur.\n",
        "print(sys.version)"
      ],
      "metadata": {
        "colab": {
          "base_uri": "https://localhost:8080/"
        },
        "id": "PF5mFfWf7p_p",
        "outputId": "2b168a9b-ba6a-4ac7-c9b5-7e1c16b25452"
      },
      "execution_count": null,
      "outputs": [
        {
          "output_type": "stream",
          "name": "stdout",
          "text": [
            "3.10.12 (main, Jul 29 2024, 16:56:48) [GCC 11.4.0]\n"
          ]
        }
      ]
    },
    {
      "cell_type": "code",
      "source": [
        "from google.colab import drive\n",
        "drive.mount('/content/drive')"
      ],
      "metadata": {
        "colab": {
          "base_uri": "https://localhost:8080/"
        },
        "id": "xi5lu6Tp7qHd",
        "outputId": "dad6d29e-edc8-41f0-f5e0-a185dd7883ed"
      },
      "execution_count": null,
      "outputs": [
        {
          "output_type": "stream",
          "name": "stdout",
          "text": [
            "Drive already mounted at /content/drive; to attempt to forcibly remount, call drive.mount(\"/content/drive\", force_remount=True).\n"
          ]
        }
      ]
    },
    {
      "cell_type": "code",
      "source": [
        "import os\n",
        "os.chdir('/content/drive/My Drive/VERIYAPILARI_')\n",
        "!pwd #bize kodun çıktısını dosya yolu olarak veren kod blogudur."
      ],
      "metadata": {
        "colab": {
          "base_uri": "https://localhost:8080/"
        },
        "id": "IwlepUMC7qOy",
        "outputId": "275ef7c8-999c-41c9-efb4-a84ec03421d4"
      },
      "execution_count": null,
      "outputs": [
        {
          "output_type": "stream",
          "name": "stdout",
          "text": [
            "/content/drive/My Drive/VERIYAPILARI_\n"
          ]
        }
      ]
    },
    {
      "cell_type": "markdown",
      "source": [
        "Döngü Türleri:\n",
        "\n",
        "for döngüsü = belirli bir sıralama üzerinde iterasyon yapmak için kullanılır.\n",
        "\n",
        "genellikle bir liste,dizi veya range fonksiyonu ile kullanılır.\n",
        "\n",
        "while döngüsü = belirli bir koşul dogru oldugu sürevce kod blogunu çalıştırır.\n",
        "\n",
        "Döngü Kontrol Yapıları:\n",
        "\n",
        "break:\n",
        "döngüyü tamamen sonlanır\n",
        "continue :\n",
        "döngünün o anki tekrarı iterasyonunu sonlandırır ve bir sonraki tekrara-iterasyonu geçer\n",
        "\n"
      ],
      "metadata": {
        "id": "fiR901gO8yNx"
      }
    },
    {
      "cell_type": "code",
      "source": [
        "# for döngüsü örnegi :0 dan 4'e kadar olan sayıları yazdırılması işlemidir.\n",
        "for i in range(5):\n",
        "  print(i)"
      ],
      "metadata": {
        "colab": {
          "base_uri": "https://localhost:8080/"
        },
        "id": "-l1evFVn-LzI",
        "outputId": "c012095b-6881-45b8-ae67-0f8c3f042575"
      },
      "execution_count": null,
      "outputs": [
        {
          "output_type": "stream",
          "name": "stdout",
          "text": [
            "0\n",
            "1\n",
            "2\n",
            "3\n",
            "4\n"
          ]
        }
      ]
    },
    {
      "cell_type": "code",
      "source": [
        "#for döngüsü örnegi:alışveriş listesi\n",
        "liste=[\"elma\",\"muz\",\"çilek\",\"kavun\" ]\n",
        "for alınacaklar in liste:\n",
        "  print(alınacaklar)"
      ],
      "metadata": {
        "colab": {
          "base_uri": "https://localhost:8080/"
        },
        "id": "tJ-td7zF_L6w",
        "outputId": "91ed2736-1765-4ec1-8eb1-da7271f60093"
      },
      "execution_count": null,
      "outputs": [
        {
          "output_type": "stream",
          "name": "stdout",
          "text": [
            "elma\n",
            "muz\n",
            "çilek\n",
            "kavun\n"
          ]
        }
      ]
    },
    {
      "cell_type": "code",
      "source": [
        "# for döngüsü örnegi:bir sınıftaki ögrencilerin notlarının ortalamsını hesaplama\n",
        "\n",
        "notlar=[85,92,78,90,88]\n",
        "toplam = 0\n",
        "for sayi in notlar:\n",
        "    toplam += sayi  #toplam = toplam +sayi\n",
        "\n",
        "ortalama=toplam/len(notlar)\n",
        "print(\"birinci print -> not ortalaması: \",ortalama)\n",
        "print(f\"ikinci print -> not ortalaması: {ortalama} \")\n",
        "\n",
        "\n"
      ],
      "metadata": {
        "colab": {
          "base_uri": "https://localhost:8080/"
        },
        "id": "j5KE9mXwAk8f",
        "outputId": "2fb7d269-9d75-4946-bd67-f2d0ee1b208f"
      },
      "execution_count": null,
      "outputs": [
        {
          "output_type": "stream",
          "name": "stdout",
          "text": [
            "birinci print -> not ortalaması:  86.6\n",
            "ikinci print -> not ortalaması: 86.6 \n"
          ]
        }
      ]
    },
    {
      "cell_type": "code",
      "source": [
        "# while dögüsü örnegi :0'dan 4'e kadar olan sayıları yazdırılması işlemidir.\n",
        "i=0\n",
        "while i<=5:\n",
        "  print(i)\n",
        "  i +=1"
      ],
      "metadata": {
        "colab": {
          "base_uri": "https://localhost:8080/"
        },
        "id": "pWGCnGA8D3GA",
        "outputId": "cb0cc20d-25f6-4993-9a5d-dede2a064ae3"
      },
      "execution_count": null,
      "outputs": [
        {
          "output_type": "stream",
          "name": "stdout",
          "text": [
            "0\n",
            "1\n",
            "2\n",
            "3\n",
            "4\n",
            "5\n"
          ]
        }
      ]
    },
    {
      "cell_type": "code",
      "source": [
        "#kullanıcıdan bir sayı alınması\n",
        "kulanıcı_girdisi =int(input(\"bir sayı girin : \"))\n",
        "\n",
        "# 0'dan kullanıcı tarafından girilen sayıya kadar sıralama yapma\n",
        "i=0\n",
        "while i<=kulanıcı_girdisi:\n",
        "  print(i)\n",
        "  i +=1\n",
        "\n"
      ],
      "metadata": {
        "colab": {
          "base_uri": "https://localhost:8080/"
        },
        "id": "3ptsfPCGFiVD",
        "outputId": "fdf5cf7d-baf0-4ca0-dd78-1562e893108c"
      },
      "execution_count": null,
      "outputs": [
        {
          "output_type": "stream",
          "name": "stdout",
          "text": [
            "bir sayı girin : 7\n",
            "0\n",
            "1\n",
            "2\n",
            "3\n",
            "4\n",
            "5\n",
            "6\n",
            "7\n"
          ]
        }
      ]
    },
    {
      "cell_type": "code",
      "source": [
        "# break örnegi : 3'e ulaştıgında döngü sonlandıran kod blogudur\n",
        "for i in range(5):\n",
        "  if i==3:\n",
        "    #print(i)\n",
        "    break\n",
        "    #print(i)\n",
        "  print(i)"
      ],
      "metadata": {
        "colab": {
          "base_uri": "https://localhost:8080/"
        },
        "id": "CdqKEdL3Gnf5",
        "outputId": "63d1ef49-eb8a-4349-ceff-0f95a82f2936"
      },
      "execution_count": null,
      "outputs": [
        {
          "output_type": "stream",
          "name": "stdout",
          "text": [
            "0\n",
            "1\n",
            "2\n"
          ]
        }
      ]
    },
    {
      "cell_type": "code",
      "source": [
        "# continue örnegi :3'e ulaştıgında o tekrar işlemini es geçen kod blogudur.\n",
        "for i in range(5):\n",
        "  if i ==3:\n",
        "    continue\n",
        "  print(i)"
      ],
      "metadata": {
        "colab": {
          "base_uri": "https://localhost:8080/"
        },
        "id": "GptTPyhsGnom",
        "outputId": "5d275b3d-690f-4f3b-c05d-47fdc03e9ed4"
      },
      "execution_count": null,
      "outputs": [
        {
          "output_type": "stream",
          "name": "stdout",
          "text": [
            "0\n",
            "1\n",
            "2\n",
            "4\n"
          ]
        }
      ]
    },
    {
      "cell_type": "code",
      "source": [
        "# iç içe for döngüsü örnegi : 2boyutlu"
      ],
      "metadata": {
        "id": "P3E6ETBqGnx2"
      },
      "execution_count": null,
      "outputs": []
    }
  ]
}