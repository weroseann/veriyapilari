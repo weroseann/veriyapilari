{
  "nbformat": 4,
  "nbformat_minor": 0,
  "metadata": {
    "colab": {
      "provenance": []
    },
    "kernelspec": {
      "name": "python3",
      "display_name": "Python 3"
    },
    "language_info": {
      "name": "python"
    }
  },
  "cells": [
    {
      "cell_type": "code",
      "execution_count": 1,
      "metadata": {
        "id": "jIbh9vBUG5pV",
        "colab": {
          "base_uri": "https://localhost:8080/"
        },
        "outputId": "bc8b9d95-b307-437b-83c9-5ca256ca9f71"
      },
      "outputs": [
        {
          "output_type": "stream",
          "name": "stdout",
          "text": [
            "merhaba,İGÜ-İSKA!\n"
          ]
        }
      ],
      "source": [
        "print(\"merhaba,İGÜ-İSKA!\") #PRİNT EKRANA ÇIKTI VEREN BİR KODDUR.\n"
      ]
    },
    {
      "cell_type": "code",
      "source": [
        "import sys #import python programlama dilinde yazılıma kütüphane eklemeye yarayan bir koddur.\n",
        "print(sys.version)"
      ],
      "metadata": {
        "colab": {
          "base_uri": "https://localhost:8080/"
        },
        "id": "uI_J1uq8KJTN",
        "outputId": "a749b9c4-0726-4c86-cbf9-ab11bcefee69"
      },
      "execution_count": 2,
      "outputs": [
        {
          "output_type": "stream",
          "name": "stdout",
          "text": [
            "3.10.12 (main, Jul 29 2024, 16:56:48) [GCC 11.4.0]\n"
          ]
        }
      ]
    },
    {
      "cell_type": "code",
      "source": [
        "from google.colab import drive #foofle colab-driive baglantısı\n",
        "drive.mount('/content/drive')"
      ],
      "metadata": {
        "colab": {
          "base_uri": "https://localhost:8080/"
        },
        "id": "N_vBDZ2BKj4h",
        "outputId": "c1648ff3-429d-48d2-83c4-e7bc97dc4d8a"
      },
      "execution_count": 3,
      "outputs": [
        {
          "output_type": "stream",
          "name": "stdout",
          "text": [
            "Mounted at /content/drive\n"
          ]
        }
      ]
    },
    {
      "cell_type": "code",
      "source": [
        "import os\n",
        "os.chdir('/content/drive/My Drive/VERIYAPILARI_')\n",
        "!pwd # bize kodun çıktısını dosya yolu olarak veren kod blogudur."
      ],
      "metadata": {
        "colab": {
          "base_uri": "https://localhost:8080/"
        },
        "id": "0OWh_rmyKj7X",
        "outputId": "3ca32530-21cf-4bdf-fe4b-a9af9ce70665"
      },
      "execution_count": 5,
      "outputs": [
        {
          "output_type": "stream",
          "name": "stdout",
          "text": [
            "/content/drive/My Drive/VERIYAPILARI_\n"
          ]
        }
      ]
    },
    {
      "cell_type": "code",
      "source": [],
      "metadata": {
        "id": "IsfUr0mzKj-e"
      },
      "execution_count": null,
      "outputs": []
    },
    {
      "cell_type": "code",
      "source": [],
      "metadata": {
        "id": "9-OMDlvMKkBV"
      },
      "execution_count": null,
      "outputs": []
    },
    {
      "cell_type": "code",
      "source": [],
      "metadata": {
        "id": "RjeotBeOKkHW"
      },
      "execution_count": null,
      "outputs": []
    },
    {
      "cell_type": "code",
      "source": [],
      "metadata": {
        "id": "6QlA3g0rKkKM"
      },
      "execution_count": null,
      "outputs": []
    }
  ]
}
