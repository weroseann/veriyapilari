{
  "nbformat": 4,
  "nbformat_minor": 0,
  "metadata": {
    "colab": {
      "provenance": []
    },
    "kernelspec": {
      "name": "python3",
      "display_name": "Python 3"
    },
    "language_info": {
      "name": "python"
    }
  },
  "cells": [
    {
      "cell_type": "code",
      "execution_count": null,
      "metadata": {
        "id": "orKHDlz_LOjm"
      },
      "outputs": [],
      "source": [
        "# python girilen degerlerin toplamı\n",
        "sayi1=int(input(\"birinci sayı girin : \"))\n",
        "sayi2=int(input(\"ikinci sayı girin:\"))\n",
        "toplam=sayi1+sayi2\n",
        "print(\"girilen sayıların toplam : \",toplam)"
      ]
    },
    {
      "cell_type": "code",
      "source": [
        "# python girilen iki sayının ortalaması\n",
        "sayi1=int(input(\"birinci sayı girin:\"))\n",
        "sayi2=int(input(\"ikinci sayı girin: \"))\n",
        "ortalama=(sayi1+sayi2)/2\n",
        "print(\"girilen sayının ortalaması: \",ortalama)"
      ],
      "metadata": {
        "colab": {
          "base_uri": "https://localhost:8080/"
        },
        "id": "zs_1LXw_OXy8",
        "outputId": "6f725e44-0aef-40e6-ccbc-f3caf91e6a67"
      },
      "execution_count": null,
      "outputs": [
        {
          "output_type": "stream",
          "name": "stdout",
          "text": [
            "birinci sayı girin:9\n",
            "ikinci sayı girin: 90\n",
            "girilen sayının ortalaması:  49.5\n"
          ]
        }
      ]
    },
    {
      "cell_type": "code",
      "source": [
        "#python yazılı ortalaması hesaplama ve geçti kaldı örnegi\n",
        "sayi1=float(input(\"birinci yazılı notunuz:\"))\n",
        "sayi2=float(input(\"ikinci yazılı notunuzu :\"))\n",
        "ortalama=(sayi1+sayi2)/2\n",
        "print(\"ortalama notunuz : \",ortalama)\n",
        "if(ortalama>65):\n",
        " print(\"sınavdan geçtiniz tebrikler\")\n",
        "else:\n",
        " print(\"malesef kaldınız :(\")\n",
        "\n"
      ],
      "metadata": {
        "colab": {
          "base_uri": "https://localhost:8080/"
        },
        "id": "ffXbtfwUOKbT",
        "outputId": "0ee1d6de-6353-40ac-ad0c-466d61c70a34"
      },
      "execution_count": null,
      "outputs": [
        {
          "output_type": "stream",
          "name": "stdout",
          "text": [
            "birinci yazılı notunuz:67\n",
            "ikinci yazılı notunuzu :90\n",
            "ortalama notunuz :  78.5\n",
            "sınavdan geçtiniz tebrikler\n"
          ]
        }
      ]
    },
    {
      "cell_type": "code",
      "source": [
        "#python girilen sayı tek mi çift mi ?\n",
        "sayi=int(input(\"bir sayı giriniz: \"))\n",
        "if(sayi%2==0):\n",
        "    print(\"girilen sayı çifttir.\")\n",
        "else:\n",
        "    print(\"girilen sayı tektir.\")\n"
      ],
      "metadata": {
        "colab": {
          "base_uri": "https://localhost:8080/"
        },
        "id": "wiTuzI-AQ7aw",
        "outputId": "d36ddc59-de72-4c90-f690-eef33122e071"
      },
      "execution_count": null,
      "outputs": [
        {
          "output_type": "stream",
          "name": "stdout",
          "text": [
            "bir sayı giriniz: 7\n",
            "girilen sayı tektir.\n"
          ]
        }
      ]
    },
    {
      "cell_type": "code",
      "source": [
        "#python girilen sayının negatif mi pozitif mi sıfır mı bulma\n",
        "sayi=int(input(\"bir sayi giriniz:\"))\n",
        "if(sayi>0):\n",
        "   print(\"girilen sayi pozitiftir.\")\n",
        "\n",
        "elif(sayi<0):\n",
        "   printf(\"girilen sayi tektir\")\n",
        "\n",
        "else:\n",
        "   print(\"girilen sayi 0 'dır\")\n"
      ],
      "metadata": {
        "colab": {
          "base_uri": "https://localhost:8080/"
        },
        "id": "-6yHzDuUR_mV",
        "outputId": "0ca4cc5f-42d4-4da9-8e07-72cd98e9eb65"
      },
      "execution_count": null,
      "outputs": [
        {
          "output_type": "stream",
          "name": "stdout",
          "text": [
            "bir sayi giriniz:0\n",
            "girilen sayi 0 'dır\n"
          ]
        }
      ]
    },
    {
      "cell_type": "code",
      "source": [
        "#girilen sayının çarpımını bulma\n",
        "sayi=int(input(\"bir sayı giriniz:\"))\n",
        "sayi2=int(input(\"ikinci sayıyı giriniz:\"))\n",
        "carpim=sayi*sayi2\n",
        "print(\"girilen sayıların çarpımı : \",carpim)"
      ],
      "metadata": {
        "colab": {
          "base_uri": "https://localhost:8080/"
        },
        "id": "58bN9hqYS-8d",
        "outputId": "58821af3-94e7-4544-856e-a724fa63db18"
      },
      "execution_count": null,
      "outputs": [
        {
          "output_type": "stream",
          "name": "stdout",
          "text": [
            "bir sayı giriniz:8\n",
            "ikinci sayıyı giriniz:9\n",
            "girilen sayıların çarpımı :  72\n"
          ]
        }
      ]
    },
    {
      "cell_type": "code",
      "source": [
        "# 0 girilen kadar girilen satılarının toplamı\n",
        "toplam=0\n",
        "while True :\n",
        "  sayi =int(input(\"bir sayı giriniz :\"))\n",
        "  if sayi ==0:\n",
        "    break\n",
        "    toplam +=sayi\n",
        "    print(\"girilen sayıların toplamı: \",toplam)\n",
        "\n",
        "\n"
      ],
      "metadata": {
        "id": "wWd_oGGUT2Fy",
        "colab": {
          "base_uri": "https://localhost:8080/"
        },
        "outputId": "d4998d34-9fd4-45f0-ebd7-df89c7ebcb17"
      },
      "execution_count": 3,
      "outputs": [
        {
          "name": "stdout",
          "output_type": "stream",
          "text": [
            "bir sayı giriniz :8\n",
            "bir sayı giriniz :9\n",
            "bir sayı giriniz :7\n",
            "bir sayı giriniz :8\n",
            "bir sayı giriniz :0\n"
          ]
        }
      ]
    },
    {
      "cell_type": "code",
      "source": [
        "#liste elmanlarının toplamı\n",
        " liste = [1,2,3,,4,5,6,7,8,9]\n",
        ""
      ],
      "metadata": {
        "colab": {
          "base_uri": "https://localhost:8080/",
          "height": 106
        },
        "id": "_0G4nYuWir_O",
        "outputId": "5ec6e336-43fe-4395-bd17-4b980cf3d0ae"
      },
      "execution_count": 6,
      "outputs": [
        {
          "output_type": "error",
          "ename": "IndentationError",
          "evalue": "unexpected indent (<ipython-input-6-0b694c05434c>, line 2)",
          "traceback": [
            "\u001b[0;36m  File \u001b[0;32m\"<ipython-input-6-0b694c05434c>\"\u001b[0;36m, line \u001b[0;32m2\u001b[0m\n\u001b[0;31m    liste = [1,2,,3,4,5,6,7,8,9]\u001b[0m\n\u001b[0m    ^\u001b[0m\n\u001b[0;31mIndentationError\u001b[0m\u001b[0;31m:\u001b[0m unexpected indent\n"
          ]
        }
      ]
    },
    {
      "cell_type": "code",
      "source": [
        "#"
      ],
      "metadata": {
        "id": "mub61T9Sj1RZ"
      },
      "execution_count": null,
      "outputs": []
    },
    {
      "cell_type": "markdown",
      "source": [
        "meyveler = [\"muz\", \"elma\", \"kiraz\"]\n",
        "\n",
        "for x in meyveler:\n",
        "\n",
        "  print(x)\n",
        "\n",
        "break İfadesi=\n",
        "\n",
        "Bu ifadeyi kullanarak for döngüsünü elemanların bitmesini beklemeden sonlandırabiliriz.\n",
        "\n",
        "continue İfadesi=\n",
        "\n",
        "Bu ifadeyi kullanarak şimdiki yinelemeyi sonlandırabilir ve bir sonraki yineleme ile devam edebiliriz.\n",
        "\n",
        "pass Deyimi=\n",
        "\n",
        "for döngüsünden sonra mutlaka kod yazılmalıdır. Eğer bu döngü çalıştırıldıktan sonra hiçbir kod çalıştırılmaması gerekiyorsa pass yazılarak döngü geçilebilir.\n",
        "\n",
        "İç İçe Döngüler=\n",
        "\n",
        "Döngü içinde döngü kullanabiliriz. Böyle ifadelerde içteki döngü, dıştaki döngü kadar tekrarlanır.\n"
      ],
      "metadata": {
        "id": "rsVUV01QkNu8"
      }
    },
    {
      "cell_type": "code",
      "source": [
        "def toplama(x, y):\n",
        "    return x + y\n",
        "\n",
        "def cikarma(x, y):\n",
        "    return x - y\n",
        "\n",
        "def carpma(x, y):\n",
        "    return x * y\n",
        "\n",
        "def bolme(x, y):\n",
        "    if y != 0:\n",
        "        return x / y\n",
        "    else:\n",
        "        return \"Bölme hatası: Bir sayıyı sıfıra bölemezsiniz.\"\n",
        "\n",
        "def hesap_makinesi():\n",
        "    print(\"Yapmak istediğiniz işlemi seçin:\")\n",
        "    print(\"1.Toplama\")\n",
        "    print(\"2.Çıkarma\")\n",
        "    print(\"3.Çarpma\")\n",
        "    print(\"4.Bölme\")\n",
        "\n",
        "    secim = input(\"Seçiminizi yapın (1/2/3/4): \")\n",
        "\n",
        "    if secim in ['1', '2', '3', '4']:\n",
        "        num1 = float(input(\"Birinci sayıyı girin: \"))\n",
        "        num2 = float(input(\"İkinci sayıyı girin: \"))\n",
        "\n",
        "        if secim == '1':\n",
        "            print(f\"{num1} + {num2} = {toplama(num1, num2)}\")\n",
        "\n",
        "        elif secim == '2':\n",
        "            print(f\"{num1} - {num2} = {cikarma(num1, num2)}\")\n",
        "\n",
        "        elif secim == '3':\n",
        "            print(f\"{num1} * {num2} = {carpma(num1, num2)}\")\n",
        "\n",
        "        elif secim == '4':\n",
        "            print(f\"{num1} / {num2} = {bolme(num1, num2)}\")\n",
        "\n",
        "    else:\n",
        "        print(\"Geçersiz giriş. Lütfen 1, 2, 3 veya 4 girin.\")\n"
      ],
      "metadata": {
        "id": "hnQEYf5MT2Po"
      },
      "execution_count": 9,
      "outputs": []
    },
    {
      "cell_type": "code",
      "source": [
        "# not hesaplama\n",
        "vize=int(input(\"vize notunuzu girin: \"))\n",
        "final=int(input(\"final notunuzu girin :\"))\n",
        "ortalama=(vize*0.4)+(final*0.6)\n",
        "print(\"ortalama notunuz :\",ortalama)\n",
        "if(ortalama>50):\n",
        "  print(\"sınavı geçtiniz tebrikler\")\n",
        "else:\n",
        "  print (\"malesef kaldınız :(\")"
      ],
      "metadata": {
        "colab": {
          "base_uri": "https://localhost:8080/"
        },
        "id": "hQ_JLsZQmQtk",
        "outputId": "159e3de7-3bf4-4991-95b5-22140bef560e"
      },
      "execution_count": 12,
      "outputs": [
        {
          "output_type": "stream",
          "name": "stdout",
          "text": [
            "vize notunuzu girin: 25\n",
            "final notunuzu girin :65\n",
            "ortalama notunuz : 49.0\n",
            "malesef kaldınız :(\n"
          ]
        }
      ]
    },
    {
      "cell_type": "code",
      "source": [],
      "metadata": {
        "id": "isbjK3YoncUs"
      },
      "execution_count": null,
      "outputs": []
    }
  ]
}