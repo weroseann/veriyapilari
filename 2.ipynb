{
  "nbformat": 4,
  "nbformat_minor": 0,
  "metadata": {
    "colab": {
      "provenance": []
    },
    "kernelspec": {
      "name": "python3",
      "display_name": "Python 3"
    },
    "language_info": {
      "name": "python"
    }
  },
  "cells": [
    {
      "cell_type": "code",
      "execution_count": 8,
      "metadata": {
        "colab": {
          "base_uri": "https://localhost:8080/"
        },
        "id": "VnYFlv73NdvE",
        "outputId": "f1fc1757-f698-443b-dd44-b92dfd3b1b4a"
      },
      "outputs": [
        {
          "output_type": "stream",
          "name": "stdout",
          "text": [
            "Merhaba, İGÜ - İSTKA /ders 2\n"
          ]
        }
      ],
      "source": [
        "print(\"Merhaba, İGÜ - İSTKA /ders 2\") #print ekrana çıktı veren bir koddur."
      ]
    },
    {
      "cell_type": "code",
      "source": [
        "import sys # import python programlama dilinde yazılıma kütüphane eklemeye yarayan bir koddur.\n",
        "print(sys.version)"
      ],
      "metadata": {
        "colab": {
          "base_uri": "https://localhost:8080/"
        },
        "id": "jHtBix3RNiFV",
        "outputId": "b915e674-7af1-43ec-9c30-33ac794725d7"
      },
      "execution_count": 9,
      "outputs": [
        {
          "output_type": "stream",
          "name": "stdout",
          "text": [
            "3.10.12 (main, Jul 29 2024, 16:56:48) [GCC 11.4.0]\n"
          ]
        }
      ]
    },
    {
      "cell_type": "code",
      "source": [
        "from google.colab import drive # google colab -drive bağlantısı\n",
        "drive.mount('/content/drive')"
      ],
      "metadata": {
        "colab": {
          "base_uri": "https://localhost:8080/"
        },
        "id": "5eeiE_q9NiH2",
        "outputId": "34f76daf-1c30-48ec-d5fa-0b99f5550cba"
      },
      "execution_count": 10,
      "outputs": [
        {
          "output_type": "stream",
          "name": "stdout",
          "text": [
            "Drive already mounted at /content/drive; to attempt to forcibly remount, call drive.mount(\"/content/drive\", force_remount=True).\n"
          ]
        }
      ]
    },
    {
      "cell_type": "code",
      "source": [
        "import os\n",
        "os.chdir('/content/drive/My Drive/VERIYAPILARI_')"
      ],
      "metadata": {
        "id": "sqm-A_I8NiKu"
      },
      "execution_count": 13,
      "outputs": []
    },
    {
      "cell_type": "markdown",
      "source": [
        "VERİ TİPLERİ\n",
        "1-int:tam sayı\n",
        "2-float: odanlıkı sayı\n",
        "3-string: metinsel\n",
        "4-boolean : dogru yanlış\n",
        "5-list: liste\n",
        "6-tuple:demet tanımlama\n",
        "7-dictionary: sözlük tanımlama\n",
        "8-set:küme yanımlama\n"
      ],
      "metadata": {
        "id": "_dSDjm-yJhpf"
      }
    },
    {
      "cell_type": "markdown",
      "source": [
        "len()\n",
        "=bir degişkenin uzunlugunu ele alır\n",
        "\n",
        "type()\n",
        "=bir deişkenin veri tipini vermektedir\n",
        "\n",
        "print()\n",
        "=belirtilen deger ve degerleri ekrana yazdırır.\n",
        "\n",
        "capitalized()\n",
        "=bir dizeyi ilk harfini büyük harf yapıp digerlerini küçük harf yapar\n",
        "\n",
        "split()\n",
        "=bir dizeyi belirli bir ayırıcıya göre böler ve her parcayı liste elemanı olarak döner\n",
        "\n",
        "upper()\n",
        "=bir dizedeki tüm harfleri büyük harfe cevirir\n",
        "\n",
        "input()\n",
        "=kulanıcıdan veri almak için kullanılır\n",
        "\n",
        "float()\n",
        "=bir degeri ondalıklı sayı veri tipine dönüştürmek için kullanılır.\n",
        "\n",
        "int()\n",
        "=bir degeri tam sayı degeri veri tipine dönüştürmek için kullanılır\n",
        "\n",
        "abs()\n",
        "=mutlak deger alma fonksiyonudur.\n",
        "\n"
      ],
      "metadata": {
        "id": "4SwEWQCJKRQU"
      }
    },
    {
      "cell_type": "code",
      "source": [
        "# degişken tanımlama işlemi\n",
        "x= 5\n",
        "y= \" merhaba dünya \"\n",
        "print(x)\n",
        "print(y)"
      ],
      "metadata": {
        "id": "7vLKRVXlNiMz",
        "colab": {
          "base_uri": "https://localhost:8080/"
        },
        "outputId": "5cbd9102-b8ba-4316-eb08-dbb72979888c"
      },
      "execution_count": 16,
      "outputs": [
        {
          "output_type": "stream",
          "name": "stdout",
          "text": [
            "5\n",
            " merhaba dünya \n"
          ]
        }
      ]
    },
    {
      "cell_type": "code",
      "source": [
        "#integer- tamsayı tanımlama\n",
        "\n",
        "a=10\n",
        "print(type(a))"
      ],
      "metadata": {
        "id": "mgVR7TEANiPJ",
        "colab": {
          "base_uri": "https://localhost:8080/"
        },
        "outputId": "d7399dfe-6507-44b8-e1c4-92c3dbc34ef5"
      },
      "execution_count": 17,
      "outputs": [
        {
          "output_type": "stream",
          "name": "stdout",
          "text": [
            "<class 'int'>\n"
          ]
        }
      ]
    },
    {
      "cell_type": "code",
      "source": [
        "#float -ondalıklı sayı tanımlaması\n",
        "\n",
        "b=20.7\n",
        "print(type(b))"
      ],
      "metadata": {
        "id": "UVI9yw1gNiQ-",
        "colab": {
          "base_uri": "https://localhost:8080/"
        },
        "outputId": "b3d32b91-4389-4a88-8add-fb620cbfa23e"
      },
      "execution_count": 18,
      "outputs": [
        {
          "output_type": "stream",
          "name": "stdout",
          "text": [
            "<class 'float'>\n"
          ]
        }
      ]
    },
    {
      "cell_type": "code",
      "source": [
        "#float'tan int'e çevrimin gerçekleşmesi\n",
        "a =20.23\n",
        "b=int(a)\n",
        "print(b,type(b))"
      ],
      "metadata": {
        "id": "ZJ0JHep_NhFh",
        "colab": {
          "base_uri": "https://localhost:8080/"
        },
        "outputId": "82389466-4fc1-49b1-a4e4-7b214ac2f71f"
      },
      "execution_count": 19,
      "outputs": [
        {
          "output_type": "stream",
          "name": "stdout",
          "text": [
            "20 <class 'int'>\n"
          ]
        }
      ]
    },
    {
      "cell_type": "code",
      "source": [
        "# string- metinsel içerik tanımlama\n",
        "\n",
        "c=\"python programlama\"\n",
        "print (c)\n",
        "print(type(c))"
      ],
      "metadata": {
        "colab": {
          "base_uri": "https://localhost:8080/"
        },
        "id": "qKsah5MoN42P",
        "outputId": "6fad161d-ebf5-425d-bfc2-e9977b8d8028"
      },
      "execution_count": 20,
      "outputs": [
        {
          "output_type": "stream",
          "name": "stdout",
          "text": [
            "python programlama\n",
            "<class 'str'>\n"
          ]
        }
      ]
    },
    {
      "cell_type": "code",
      "source": [
        "#boolean (true-false)-dogru /yanlış tanımlaması\n",
        "\n",
        "d=True\n",
        "e=False\n",
        "print(d)\n",
        "print(type(d))\n"
      ],
      "metadata": {
        "colab": {
          "base_uri": "https://localhost:8080/"
        },
        "id": "bTSOImNEN44x",
        "outputId": "de918ad3-bad6-4db4-c4a4-2203adbe0816"
      },
      "execution_count": 21,
      "outputs": [
        {
          "output_type": "stream",
          "name": "stdout",
          "text": [
            "True\n",
            "<class 'bool'>\n"
          ]
        }
      ]
    },
    {
      "cell_type": "code",
      "source": [
        "#list-liste tanımlaması\n",
        "\n",
        "liste =[1,2,3,4,5]\n",
        "print(type(liste))\n",
        "print(liste)"
      ],
      "metadata": {
        "colab": {
          "base_uri": "https://localhost:8080/"
        },
        "id": "aDXaltlKN48K",
        "outputId": "c47439e7-34b4-4a19-9c31-3b35b1e31887"
      },
      "execution_count": 25,
      "outputs": [
        {
          "output_type": "stream",
          "name": "stdout",
          "text": [
            "<class 'list'>\n",
            "[1, 2, 3, 4, 5]\n"
          ]
        }
      ]
    },
    {
      "cell_type": "code",
      "source": [
        "#tuple-demet tanımlaması\n",
        "\n",
        "demet=(1,2,3,4,5)\n",
        "print(type(demet))\n",
        "print(demet)"
      ],
      "metadata": {
        "colab": {
          "base_uri": "https://localhost:8080/"
        },
        "id": "QRJtgQssN4-f",
        "outputId": "f1e4f2aa-517a-44c0-c03a-efc11d8a065e"
      },
      "execution_count": 28,
      "outputs": [
        {
          "output_type": "stream",
          "name": "stdout",
          "text": [
            "<class 'tuple'>\n",
            "(1, 2, 3, 4, 5)\n"
          ]
        }
      ]
    },
    {
      "cell_type": "code",
      "source": [
        "#dictionary - sözlük örnegi ->ögrencilerin notularını tutan sözlük\n",
        "notlar={\n",
        "    \"ali\":55,\n",
        "    \"veli\":65,\n",
        "    \"ahmet\":72\n",
        "}\n",
        "notlar [\"fatma\"] =98 #yeni bir ögrenci\n",
        "\n",
        "notlar[\"ali\"] =78 #ögrenci not güncelleme\n",
        "print(notlar)"
      ],
      "metadata": {
        "colab": {
          "base_uri": "https://localhost:8080/"
        },
        "id": "Is9Wt8a4N5BH",
        "outputId": "8a9c3585-0162-4a47-c2ec-f61fafc1ddb3"
      },
      "execution_count": 32,
      "outputs": [
        {
          "output_type": "stream",
          "name": "stdout",
          "text": [
            "{'ali': 78, 'veli': 65, 'ahmet': 72, 'fatma': 98}\n"
          ]
        }
      ]
    },
    {
      "cell_type": "code",
      "source": [
        "\n",
        "print(notlar.keys())    # dict_keys(['isim', 'yas', 'meslek'])\n",
        "print(notlar.values())  # dict_values(['Ahmet', 26, 'Mühendis'])\n",
        "print(notlar.items())   # dict_items([('isim', 'Ahmet'), ('yas', 26), ('meslek', 'Mühendis')])"
      ],
      "metadata": {
        "colab": {
          "base_uri": "https://localhost:8080/"
        },
        "id": "Nd_gYGM6N5D-",
        "outputId": "102c94ab-4914-4633-df40-18ec59cd4d87"
      },
      "execution_count": 33,
      "outputs": [
        {
          "output_type": "stream",
          "name": "stdout",
          "text": [
            "dict_keys(['ali', 'veli', 'ahmet', 'fatma'])\n",
            "dict_values([78, 65, 72, 98])\n",
            "dict_items([('ali', 78), ('veli', 65), ('ahmet', 72), ('fatma', 98)])\n"
          ]
        }
      ]
    },
    {
      "cell_type": "markdown",
      "source": [
        "KÜME METOTLARI\n",
        "\n",
        "add()\n",
        "=küme içerisinde eleman ekler\n",
        "\n",
        "remove()\n",
        "=küme içerisinden eleman siler\n",
        "\n",
        "union()\n",
        "=iki kümenin birleşimi\n",
        "\n",
        "intersection()\n",
        "=iki kümenin kesişimimni döner\n",
        "\n",
        "difference()\n",
        "=iki kümenin farkını döner\n"
      ],
      "metadata": {
        "id": "3sI87He-V6QX"
      }
    },
    {
      "cell_type": "code",
      "source": [
        "\n",
        "# Set - Küme Örneği -> Bir yazılım etkinliğine katılan kişilerin oluşturduğu kümeler\n",
        "kodyazanlar = {\"Ahmet\", \"Mehmet\", \"Ayşe\"}\n",
        "kodyazmayanlar = {\"Ayşe\", \"Fatma\", \"Veli\"}\n",
        "\n",
        "# Kafasına Göre Takılan Öğrenciler\n",
        "ortak = kodyazanlar.intersection(kodyazmayanlar)\n",
        "print(\"Kafasına Göre Takılan Öğrencilerin Listesi:\", ortak)\n",
        "\n",
        "# Etkinlikte Kod Çalışması Yapmayan Öğrencilerin Tespiti\n",
        "Kod_yazmayan = kodyazmayanlar.difference(kodyazanlar)\n",
        "print(\"Kod çalışması yapmayan öğrenci listesi:\", Kod_yazmayan)\n",
        "\n",
        "# Yazılım Eğitiminin Öğrenci İmza Listesi\n",
        "imza_listesi = kodyazanlar.union(kodyazmayanlar)\n",
        "print(\"Etkinlik katılımcıları:\", imza_listesi)"
      ],
      "metadata": {
        "colab": {
          "base_uri": "https://localhost:8080/"
        },
        "id": "dJwHan00XWYg",
        "outputId": "2683c160-af97-49fc-f27c-c2819d9a1082"
      },
      "execution_count": 39,
      "outputs": [
        {
          "output_type": "stream",
          "name": "stdout",
          "text": [
            "Kafasına Göre Takılan Öğrencilerin Listesi: {'Ayşe'}\n",
            "Kod çalışması yapmayan öğrenci listesi: {'Fatma', 'Veli'}\n",
            "Etkinlik katılımcıları: {'Ayşe', 'Fatma', 'Veli', 'Mehmet', 'Ahmet'}\n"
          ]
        }
      ]
    },
    {
      "cell_type": "code",
      "source": [
        "giris=input(\"bir sayı girin: \")\n",
        "try:\n",
        "    num=float(giris)\n",
        "    print(f\"girilen sayı:{num },tipi:{type(num)},\",abs(num))\n",
        "except ValueError:\n",
        "  print(\"geçersiz veri girdiniz.\")\n",
        "\n"
      ],
      "metadata": {
        "colab": {
          "base_uri": "https://localhost:8080/"
        },
        "id": "VxdiqL1LXwG3",
        "outputId": "347002c4-b59f-4244-ab29-fa3374eb74d8"
      },
      "execution_count": 43,
      "outputs": [
        {
          "output_type": "stream",
          "name": "stdout",
          "text": [
            "bir sayı girin: -7\n",
            "girilen sayı:-7.0,tipi:<class 'float'>, 7.0\n"
          ]
        }
      ]
    },
    {
      "cell_type": "code",
      "source": [
        "# 0 ile 1 arasında rastgele bir ondalık sayo üretir\n",
        "import random\n",
        "rastgele_float=random.random()\n",
        "print(\"rastgele_deger:\",rastgele_float)"
      ],
      "metadata": {
        "colab": {
          "base_uri": "https://localhost:8080/"
        },
        "id": "YW5s4dzudwt2",
        "outputId": "c8a178b7-0b6c-4946-a8e3-e4c7580fd905"
      },
      "execution_count": 44,
      "outputs": [
        {
          "output_type": "stream",
          "name": "stdout",
          "text": [
            "rastgele_deger: 0.5619835641939555\n"
          ]
        }
      ]
    },
    {
      "cell_type": "code",
      "source": [
        "# 0 ile 1 arasında (her ikş sınır dahil)rastgele bir tam sayı üretir\n",
        "\n",
        "import random\n",
        "\n",
        "rastgele_sayi=random.randint(1,10)\n",
        "print(\"rastgele deger:\",rastgele_sayi)\n"
      ],
      "metadata": {
        "colab": {
          "base_uri": "https://localhost:8080/"
        },
        "id": "FfKXtMowZMzb",
        "outputId": "1dea98da-0a9c-4780-f803-a08516138662"
      },
      "execution_count": 45,
      "outputs": [
        {
          "output_type": "stream",
          "name": "stdout",
          "text": [
            "rastgele deger: 5\n"
          ]
        }
      ]
    }
  ]
}