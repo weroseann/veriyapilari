{
  "nbformat": 4,
  "nbformat_minor": 0,
  "metadata": {
    "colab": {
      "provenance": []
    },
    "kernelspec": {
      "name": "python3",
      "display_name": "Python 3"
    },
    "language_info": {
      "name": "python"
    }
  },
  "cells": [
    {
      "cell_type": "code",
      "execution_count": 10,
      "metadata": {
        "colab": {
          "base_uri": "https://localhost:8080/"
        },
        "id": "BBjSn6UEpdeF",
        "outputId": "e05b518d-3080-4d8c-f758-271679b213b1"
      },
      "outputs": [
        {
          "output_type": "stream",
          "name": "stdout",
          "text": [
            "merhaba ,İGÜ -İSTKA \\ 2\n",
            "3.10.12 (main, Jul 29 2024, 16:56:48) [GCC 11.4.0]\n",
            "Drive already mounted at /content/drive; to attempt to forcibly remount, call drive.mount(\"/content/drive\", force_remount=True).\n"
          ]
        }
      ],
      "source": [
        "print(\"merhaba ,İGÜ -İSTKA \\ 2\") #print ekrena çıktı veren koddur.\n",
        "\n",
        "import sys #import pyton programlama dilinde yazılama kütüphane eklemeye yarayan bir kod blogudur\n",
        "print(sys.version)\n",
        "\n",
        "from google.colab import drive #google colab-drive baglantısı\n",
        "drive.mount('/content/drive')\n",
        "\n",
        "\n",
        "\n"
      ]
    },
    {
      "cell_type": "code",
      "source": [
        "degisken_1 = 10\n",
        "degisken2 = 20\n",
        "_degisken3 = 30"
      ],
      "metadata": {
        "id": "gBKVFg2DvoBF"
      },
      "execution_count": 9,
      "outputs": []
    },
    {
      "cell_type": "code",
      "source": [
        "#degişken tanımlama işlemi\n",
        "x = 5\n",
        "y=\"merhaba dünya \"\n",
        "\n",
        "print(x)\n",
        "print(y)"
      ],
      "metadata": {
        "colab": {
          "base_uri": "https://localhost:8080/"
        },
        "id": "WnvwJA42wbgV",
        "outputId": "b432e3c2-2673-41e7-e68a-290361802c1d"
      },
      "execution_count": 11,
      "outputs": [
        {
          "output_type": "stream",
          "name": "stdout",
          "text": [
            "5\n",
            "merhaba dünya \n"
          ]
        }
      ]
    },
    {
      "cell_type": "code",
      "source": [
        "# Integer - tamsayı  tanımlaması\n",
        "a = 10\n",
        "print(type(a))"
      ],
      "metadata": {
        "colab": {
          "base_uri": "https://localhost:8080/"
        },
        "id": "IW7Vd2XPw7Wd",
        "outputId": "0db2099d-e89b-4d45-efe5-c9551bb36b0a"
      },
      "execution_count": 15,
      "outputs": [
        {
          "output_type": "stream",
          "name": "stdout",
          "text": [
            "<class 'int'>\n"
          ]
        }
      ]
    },
    {
      "cell_type": "code",
      "source": [
        "# float -ondalıklı sayı tanımlaması\n",
        "b=20.5\n",
        "print(type(b))\n"
      ],
      "metadata": {
        "colab": {
          "base_uri": "https://localhost:8080/"
        },
        "id": "5uXs6BjWx4Wk",
        "outputId": "3bdc4c2e-b8a2-4e94-894b-e7a5779746b2"
      },
      "execution_count": 16,
      "outputs": [
        {
          "output_type": "stream",
          "name": "stdout",
          "text": [
            "<class 'float'>\n"
          ]
        }
      ]
    },
    {
      "cell_type": "code",
      "source": [
        "# float'tan int'e çevrimin gerçekleştirilmesi\n",
        "a=12.34\n",
        "b=int(a)\n",
        "print(b, type(b))\n"
      ],
      "metadata": {
        "colab": {
          "base_uri": "https://localhost:8080/"
        },
        "id": "9eygsHvA6QVb",
        "outputId": "adfc09d2-b7fc-41a7-8ab5-47e434658914"
      },
      "execution_count": 7,
      "outputs": [
        {
          "output_type": "stream",
          "name": "stdout",
          "text": [
            "12 <class 'int'>\n"
          ]
        }
      ]
    },
    {
      "cell_type": "code",
      "source": [
        "#string- metinsel içerik tanımlaması\n",
        "c= \"python programlama\"\n",
        "print(c)\n",
        "print(type(c))"
      ],
      "metadata": {
        "colab": {
          "base_uri": "https://localhost:8080/"
        },
        "id": "TxtIsCwW7cwk",
        "outputId": "fd742776-8835-4667-e273-02a06b9e9e4b"
      },
      "execution_count": 8,
      "outputs": [
        {
          "output_type": "stream",
          "name": "stdout",
          "text": [
            "python programlama\n",
            "<class 'str'>\n"
          ]
        }
      ]
    },
    {
      "cell_type": "code",
      "source": [
        "# boolean(true-false) - dogru/ yanlış tamlanması\n",
        "d= True\n",
        "e= False\n",
        "print(d)\n",
        "print(type(e))"
      ],
      "metadata": {
        "colab": {
          "base_uri": "https://localhost:8080/"
        },
        "id": "Iesl3DQu70rL",
        "outputId": "cc601006-55f5-4ec4-b5a2-e97fcd42946f"
      },
      "execution_count": 10,
      "outputs": [
        {
          "output_type": "stream",
          "name": "stdout",
          "text": [
            "True\n",
            "<class 'bool'>\n"
          ]
        }
      ]
    },
    {
      "cell_type": "code",
      "source": [
        " # list -liste tanımlaması\n",
        "my_list =[1,2,3,4,5]\n",
        "print(type(my_list))\n",
        "print(my_list)"
      ],
      "metadata": {
        "colab": {
          "base_uri": "https://localhost:8080/"
        },
        "id": "8_m3k8Yf8a8s",
        "outputId": "259fb8b2-49ce-4f1b-d28c-14b6da2722bb"
      },
      "execution_count": 12,
      "outputs": [
        {
          "output_type": "stream",
          "name": "stdout",
          "text": [
            "<class 'list'>\n",
            "[1, 2, 3, 4, 5]\n"
          ]
        }
      ]
    },
    {
      "cell_type": "code",
      "source": [
        "# tuple- demet tanımlaması\n",
        "demet =(1,2,3,4,5)\n",
        "print(type(demet))\n",
        "print(demet)"
      ],
      "metadata": {
        "colab": {
          "base_uri": "https://localhost:8080/"
        },
        "id": "jGhP4OBN82BT",
        "outputId": "e9842d9d-6369-452c-fbe9-776cd605a8a3"
      },
      "execution_count": 14,
      "outputs": [
        {
          "output_type": "stream",
          "name": "stdout",
          "text": [
            "<class 'tuple'>\n",
            "(1, 2, 3, 4, 5)\n"
          ]
        }
      ]
    },
    {
      "cell_type": "code",
      "source": [
        "#dictionary -sözlük örnegi->ögrencilerin notlarını tutan sözlük\n",
        "notlar = {\n",
        "\"ali\":85,\n",
        "\"veli\":90,\n",
        "\"ayşe\":78,\n",
        "}\n",
        "notlar[\"fatma\"]=92#yeni ögrenci ekleme\n",
        "notlar[\"ali\"]=88 #bir ögrencinin notunu günceleme\n",
        "print(notlar)\n"
      ],
      "metadata": {
        "colab": {
          "base_uri": "https://localhost:8080/"
        },
        "id": "SoAKzOwt-9oj",
        "outputId": "791f0f80-33c7-460c-e553-c9790cd01453"
      },
      "execution_count": 16,
      "outputs": [
        {
          "output_type": "stream",
          "name": "stdout",
          "text": [
            "{'ali': 88, 'veli': 90, 'ayşe': 78, 'fatma': 92}\n"
          ]
        }
      ]
    },
    {
      "cell_type": "code",
      "source": [
        "print(notlar.keys()) #dick_keys (['isim','yas','meslek'])\n",
        "print(notlar.values()) #dick_values (['isim','yas','meslek'])\n",
        "print(notlar.items()) #dick_items (['isim','yas','meslek'])"
      ],
      "metadata": {
        "colab": {
          "base_uri": "https://localhost:8080/"
        },
        "id": "VLmVNmn8BB_k",
        "outputId": "15bf561d-d7f0-4e10-c0f0-7ad73bf52966"
      },
      "execution_count": 17,
      "outputs": [
        {
          "output_type": "stream",
          "name": "stdout",
          "text": [
            "dict_keys(['ali', 'veli', 'ayşe', 'fatma'])\n",
            "dict_values([88, 90, 78, 92])\n",
            "dict_items([('ali', 88), ('veli', 90), ('ayşe', 78), ('fatma', 92)])\n"
          ]
        }
      ]
    },
    {
      "cell_type": "code",
      "source": [
        "# set-küme örnegi->bir yazılım etkinligine katılan oluşturdugu kümeler\n",
        "kodyazanlar={\"ahmet\",\"ayşe\",\"veli\"}\n",
        "kodyazamayanlar={\"ayşe\",\"fatma\",\"veli\"}\n",
        "\n",
        "#kafasına göre takılan ögrenciler\n",
        "ortak=kodyazanlar.intersection(kodyazamayanlar)\n",
        "print(\"kafasına göre takılan ögrenciler :\",ortak)\n",
        "\n",
        "#Etkinlikte Kod Çalışması Yapmayan Öğrencilerin Tespiti\n",
        "\n",
        "kod_yazmayan= kodyazamayanlar.difference(kodyazanlar)\n",
        "print(\"kod çalışması yapmayan ögrenci listesi:\",kod_yazmayan)\n",
        "\n",
        "# Yazılım Eğitiminin Öğrenci İmza Listesi\n",
        "imza_listesi = kodyazanlar.union(kodyazmayanlar)\n",
        "print(\"Etkinlik katılımcıları:\", imza_listesi)\n",
        "\n",
        "\n"
      ],
      "metadata": {
        "id": "IpuXFaGXER1K"
      },
      "execution_count": null,
      "outputs": []
    },
    {
      "cell_type": "code",
      "source": [
        "giris= input(\"birsayı:\")\n",
        "try:\n",
        "  num=float(giris)\n",
        "  print(f\"girilen sayı:{num},tipi:{num},\",abs(num))\n",
        "except valueerror:\n",
        "    print(\"gecersiz veri girdiniz.\")"
      ],
      "metadata": {
        "colab": {
          "base_uri": "https://localhost:8080/"
        },
        "id": "8WVW6qMmEWDi",
        "outputId": "06327d29-8c57-4027-85f9-ed78d15f7e3d"
      },
      "execution_count": 20,
      "outputs": [
        {
          "output_type": "stream",
          "name": "stdout",
          "text": [
            "birsayı:5\n",
            "girilen sayı:5.0,tipi:5.0, 5.0\n"
          ]
        }
      ]
    },
    {
      "cell_type": "code",
      "source": [
        "# 0 ile 1 arasında rastgele bir ondalık sayı üretir\n",
        "import random\n",
        "\n",
        "rastgele_float =random.random()\n",
        "print(\"rastgele deger:\",rastgele_float)"
      ],
      "metadata": {
        "colab": {
          "base_uri": "https://localhost:8080/"
        },
        "id": "sjpQnQiCFO4y",
        "outputId": "3933990f-481e-4fe4-f1f1-c0106993327b"
      },
      "execution_count": 26,
      "outputs": [
        {
          "output_type": "stream",
          "name": "stdout",
          "text": [
            "rastgele deger: 0.6143014951867399\n"
          ]
        }
      ]
    },
    {
      "cell_type": "code",
      "source": [
        "#1 ile 10 arasında (her ikisi sınır dahil) rastgele bir tam sayı üretir\n",
        "\n",
        "import random\n",
        "\n",
        "rastgele_sayi = random.randint(1,10)\n",
        "print(\"rastgele deger :\", rastgele_sayi)\n",
        "\n"
      ],
      "metadata": {
        "colab": {
          "base_uri": "https://localhost:8080/"
        },
        "id": "PwXrpVQJGgn6",
        "outputId": "0326ce18-7e56-4178-bd86-7d4ab625399f"
      },
      "execution_count": 27,
      "outputs": [
        {
          "output_type": "stream",
          "name": "stdout",
          "text": [
            "rastgele deger : 1\n"
          ]
        }
      ]
    }
  ]
}